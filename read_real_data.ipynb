{
 "cells": [
  {
   "cell_type": "code",
   "execution_count": 2,
   "id": "1f9cee47-30de-4966-942c-2997956e003f",
   "metadata": {},
   "outputs": [],
   "source": [
    "import pandas as pd\n",
    "import os\n",
    "import matplotlib.pyplot as plt\n",
    "import datetime\n",
    "import numpy as np\n",
    "import tensorflow.compat.v1 as tf\n",
    "tf.disable_v2_behavior()\n",
    "#from Simulation_Class import *"
   ]
  },
  {
   "cell_type": "code",
   "execution_count": 4,
   "id": "ad1de15e-5d92-4eb7-9c69-fdb523b38669",
   "metadata": {},
   "outputs": [
    {
     "name": "stdout",
     "output_type": "stream",
     "text": [
      "Index(['date', 'days', 'impl_volatility', 'impl_strike', 'cp_flag'], dtype='object')\n",
      "[ 10  30  60  91 122 152 182 273 365 547 730]\n",
      "[19960104 19960105 19960108 ... 20201229 20201230 20201231]\n",
      "6293\n"
     ]
    }
   ],
   "source": [
    "path = 'D:\\Desktop\\RND\\VolatilitySurface1996_2020.csv'\n",
    "vol_df = pd.read_csv(path,usecols=['date', 'days', 'impl_volatility', 'impl_strike', 'cp_flag'])  \n",
    "type(vol_df)\n",
    "aa = vol_df.head(50)\n",
    "print((vol_df.columns))\n",
    "print((vol_df['days'].unique()))\n",
    "print((vol_df['date'].unique()))\n",
    "print((len(vol_df['date'].unique())))"
   ]
  },
  {
   "cell_type": "code",
   "execution_count": 3,
   "id": "441b50f8-5c19-4726-8f1f-c01382dd5f96",
   "metadata": {},
   "outputs": [
    {
     "data": {
      "text/plain": [
       "(2353582, 5)"
      ]
     },
     "execution_count": 3,
     "metadata": {},
     "output_type": "execute_result"
    }
   ],
   "source": [
    "vol_df.shape"
   ]
  },
  {
   "cell_type": "code",
   "execution_count": null,
   "id": "18c66bdc-9655-4c7a-b6ea-20a73431be51",
   "metadata": {},
   "outputs": [],
   "source": []
  },
  {
   "cell_type": "code",
   "execution_count": null,
   "id": "6550a38c-7f28-4458-84de-edb3c3e88c06",
   "metadata": {},
   "outputs": [
    {
     "data": {
      "text/html": [
       "<div>\n",
       "<style scoped>\n",
       "    .dataframe tbody tr th:only-of-type {\n",
       "        vertical-align: middle;\n",
       "    }\n",
       "\n",
       "    .dataframe tbody tr th {\n",
       "        vertical-align: top;\n",
       "    }\n",
       "\n",
       "    .dataframe thead th {\n",
       "        text-align: right;\n",
       "    }\n",
       "</style>\n",
       "<table border=\"1\" class=\"dataframe\">\n",
       "  <thead>\n",
       "    <tr style=\"text-align: right;\">\n",
       "      <th></th>\n",
       "      <th>date</th>\n",
       "      <th>days</th>\n",
       "      <th>impl_volatility</th>\n",
       "      <th>impl_strike</th>\n",
       "      <th>cp_flag</th>\n",
       "    </tr>\n",
       "  </thead>\n",
       "  <tbody>\n",
       "    <tr>\n",
       "      <th>10</th>\n",
       "      <td>19960104</td>\n",
       "      <td>10</td>\n",
       "      <td>NaN</td>\n",
       "      <td>0.0</td>\n",
       "      <td>P</td>\n",
       "    </tr>\n",
       "    <tr>\n",
       "      <th>11</th>\n",
       "      <td>19960104</td>\n",
       "      <td>10</td>\n",
       "      <td>NaN</td>\n",
       "      <td>0.0</td>\n",
       "      <td>P</td>\n",
       "    </tr>\n",
       "    <tr>\n",
       "      <th>12</th>\n",
       "      <td>19960104</td>\n",
       "      <td>10</td>\n",
       "      <td>NaN</td>\n",
       "      <td>0.0</td>\n",
       "      <td>P</td>\n",
       "    </tr>\n",
       "    <tr>\n",
       "      <th>13</th>\n",
       "      <td>19960104</td>\n",
       "      <td>10</td>\n",
       "      <td>NaN</td>\n",
       "      <td>0.0</td>\n",
       "      <td>P</td>\n",
       "    </tr>\n",
       "    <tr>\n",
       "      <th>14</th>\n",
       "      <td>19960104</td>\n",
       "      <td>10</td>\n",
       "      <td>NaN</td>\n",
       "      <td>0.0</td>\n",
       "      <td>P</td>\n",
       "    </tr>\n",
       "    <tr>\n",
       "      <th>15</th>\n",
       "      <td>19960104</td>\n",
       "      <td>10</td>\n",
       "      <td>NaN</td>\n",
       "      <td>0.0</td>\n",
       "      <td>P</td>\n",
       "    </tr>\n",
       "  </tbody>\n",
       "</table>\n",
       "</div>"
      ],
      "text/plain": [
       "        date  days  impl_volatility  impl_strike cp_flag\n",
       "10  19960104    10              NaN          0.0       P\n",
       "11  19960104    10              NaN          0.0       P\n",
       "12  19960104    10              NaN          0.0       P\n",
       "13  19960104    10              NaN          0.0       P\n",
       "14  19960104    10              NaN          0.0       P\n",
       "15  19960104    10              NaN          0.0       P"
      ]
     },
     "execution_count": 4,
     "metadata": {},
     "output_type": "execute_result"
    }
   ],
   "source": [
    "aa.loc[10:15]"
   ]
  },
  {
   "cell_type": "code",
   "execution_count": 5,
   "id": "39f7d0cc-85bb-43a0-ac34-6a6073b9b5be",
   "metadata": {},
   "outputs": [
    {
     "name": "stderr",
     "output_type": "stream",
     "text": [
      "No handles with labels found to put in legend.\n"
     ]
    },
    {
     "data": {
      "text/plain": [
       "Text(0.5, 1.0, 'IVs for date: 20200605 cp_flag: C')"
      ]
     },
     "execution_count": 5,
     "metadata": {},
     "output_type": "execute_result"
    },
    {
     "data": {
      "image/png": "[encoded data removed]",
      "text/plain": [
       "<Figure size 432x288 with 1 Axes>"
      ]
     },
     "metadata": {
      "needs_background": "light"
     },
     "output_type": "display_data"
    }
   ],
   "source": [
    "date = 20200605\n",
    "day = 10\n",
    "cp_flag = 'C'\n",
    "dayVol = vol_df.loc[vol_df['date'] == date]\n",
    "len(dayVol)\n",
    "drawVol = dayVol[(dayVol['days'] == day) & (dayVol['cp_flag'] == cp_flag)]\n",
    "len(drawVol)\n",
    "\n",
    "plt.figure()\n",
    "plt.plot(drawVol['impl_strike'],\n",
    "         drawVol['impl_volatility'],\n",
    "         'm*-.',\n",
    "         linewidth=2)\n",
    "plt.legend()\n",
    "plt.xlabel(\"Strike\")\n",
    "plt.ylabel(\"IVs\")\n",
    "plt.title('IVs for date: %d cp_flag: %s' % (date, cp_flag))"
   ]
  },
  {
   "cell_type": "code",
   "execution_count": 6,
   "id": "f4aa87c2-e9fe-4a92-9269-651d98117235",
   "metadata": {},
   "outputs": [],
   "source": [
    "dayVol = vol_df.loc[vol_df['date']==date]"
   ]
  },
  {
   "cell_type": "code",
   "execution_count": null,
   "id": "e7bdbf8c-586f-4039-93bf-f228a4dccc3a",
   "metadata": {},
   "outputs": [],
   "source": []
  },
  {
   "cell_type": "code",
   "execution_count": 7,
   "id": "f94563ee-8f10-4ff7-a6f9-21506cddae4b",
   "metadata": {},
   "outputs": [],
   "source": [
    "rate_path = 'D:\\Desktop\\RND\\InterestRate1996_2020.csv'\n",
    "st_path = 'D:\\Desktop\\RND\\IndexPrice1996_2020.csv'\n",
    "optionPrice_path = 'D:\\Desktop\\RND\\SP500OptionPrice1996_2020_2.csv'\n",
    "rate_df = pd.read_csv(rate_path)\n"
   ]
  },
  {
   "cell_type": "code",
   "execution_count": 73,
   "id": "0634c909-6fc1-409c-9b30-82228a0e5ddd",
   "metadata": {},
   "outputs": [],
   "source": [
    "dayRate = rate_df[rate_df['date'] == date]  #先选期权开始日\n",
    "if dayRate[dayRate['days'] ==\n",
    "           day].shape[0] > 0:  #再选时长=tau（day），有的话（行数大于零），则直接得到对应利率\n",
    "    r = dayRate[dayRate['days'] == day].reset_index(drop=True)['rate'][0]\n",
    "else:\n",
    "    interpolate = dayRate.append(\n",
    "        [{\n",
    "            'date': int(date),\n",
    "            'days': int(day)\n",
    "        }], ignore_index=True).sort_values(by=['days']).reset_index(drop=True)\n",
    "    interpolate = interpolate.interpolate('linear')\n",
    "    r = interpolate[interpolate['days'] == day].reset_index(\n",
    "        drop=True)['rate'][0]"
   ]
  },
  {
   "cell_type": "code",
   "execution_count": 74,
   "id": "057f9a13-3693-4b94-83c4-952bef69456e",
   "metadata": {},
   "outputs": [
    {
     "data": {
      "text/plain": [
       "0.108571"
      ]
     },
     "execution_count": 74,
     "metadata": {},
     "output_type": "execute_result"
    }
   ],
   "source": [
    "r"
   ]
  },
  {
   "cell_type": "code",
   "execution_count": null,
   "id": "5a74606f-a171-4fb1-9343-0bcc0e1ab1bd",
   "metadata": {},
   "outputs": [],
   "source": []
  },
  {
   "cell_type": "code",
   "execution_count": 9,
   "id": "852e58f9-1496-42cc-bc73-d5f5f411c6e9",
   "metadata": {},
   "outputs": [
    {
     "name": "stdout",
     "output_type": "stream",
     "text": [
      "[19960104 19960105 19960108 ... 20201229 20201230 20201231]\n",
      "6293\n",
      "[19960102 19960103 19960104 ... 20201229 20201230 20201231]\n",
      "6298\n"
     ]
    }
   ],
   "source": [
    "print(vol_df['date'].unique())\n",
    "print(len(vol_df['date'].unique()))\n",
    "print(rate_df['date'].unique())  #利率的数据时间更长（和波动率数据相比）\n",
    "print(len(rate_df['date'].unique()))"
   ]
  },
  {
   "cell_type": "code",
   "execution_count": null,
   "id": "32d49b98-1104-4957-8029-6436a9506ad3",
   "metadata": {},
   "outputs": [],
   "source": []
  },
  {
   "cell_type": "code",
   "execution_count": 10,
   "id": "53b1c57f-473d-4f40-b3dd-9b2de87ad851",
   "metadata": {},
   "outputs": [
    {
     "name": "stdout",
     "output_type": "stream",
     "text": [
      "3163.84\n"
     ]
    }
   ],
   "source": [
    "# St \n",
    "st_df = pd.read_csv(st_path,usecols=['date', 'open', 'close'])\n",
    "st_df['St'] = (st_df['open'] + st_df['open'])/2\n",
    "daySt = st_df[st_df['date']==date]['St'].reset_index(drop=True)[0]\n",
    "print(daySt) #date=20200605时的标的资产价格"
   ]
  },
  {
   "cell_type": "code",
   "execution_count": 11,
   "id": "6ae0b651-ee6c-410e-a85a-4e971156db47",
   "metadata": {},
   "outputs": [
    {
     "data": {
      "text/plain": [
       "array([ 10,  30,  60,  91, 122, 152, 182, 273, 365, 547, 730], dtype=int64)"
      ]
     },
     "execution_count": 11,
     "metadata": {},
     "output_type": "execute_result"
    }
   ],
   "source": [
    "vol_df['days'].unique()  # tau"
   ]
  },
  {
   "cell_type": "code",
   "execution_count": 12,
   "id": "f8e44094-9237-41e4-adaa-fc08b2a9d862",
   "metadata": {},
   "outputs": [],
   "source": [
    "# Ci,Pi strike*1000 \n",
    "# 找距离最近的tau\n",
    "def FindNearestDays(d):\n",
    "    list_days = np.array([10,30,60,91,122,152,182,273,365,547,730])\n",
    "    list_diff = np.abs(list_days-d)\n",
    "    day = list_days[np.argmin(list_diff)]\n",
    "    return day"
   ]
  },
  {
   "cell_type": "code",
   "execution_count": 52,
   "id": "ca31709c-8c4e-4bb6-8a87-9150a99f0c75",
   "metadata": {},
   "outputs": [],
   "source": [
    "option_df = pd.read_csv(optionPrice_path\n",
    "                        ,usecols=['date','exdate','cp_flag', 'strike_price'\n",
    "                                  , 'best_bid', 'best_offer', 'volume'])"
   ]
  },
  {
   "cell_type": "code",
   "execution_count": 14,
   "id": "d86fe858-112d-47ad-ab90-417a339ee60b",
   "metadata": {},
   "outputs": [
    {
     "name": "stdout",
     "output_type": "stream",
     "text": [
      "(21738936, 7)\n"
     ]
    }
   ],
   "source": [
    "print(option_df.shape)"
   ]
  },
  {
   "cell_type": "code",
   "execution_count": 70,
   "id": "48a1b252-19fe-4557-b84c-e3ebe941ff64",
   "metadata": {
    "tags": []
   },
   "outputs": [],
   "source": [
    "option_df['strike_price'] = option_df['strike_price']/1000\n",
    "option_df['price'] = (option_df['best_bid'] + option_df['best_offer'])/2\n",
    "#stdate = option_df['date'].apply(lambda x:datetime.datetime.strptime(str(x),'%Y%m%d'))\n",
    "#exdate = option_df['exdate'].apply(lambda x:datetime.datetime.strptime(str(x),'%Y%m%d'))\n",
    "#option_df['days'] = (exdate-stdate).apply(lambda x:int(x.days))\n",
    "#option_df['tau'] = (exdate-stdate).apply(lambda x:float(x.days)/360)\n",
    "#option_df['volday'] = option_df['days'].apply(lambda x:FindNearestDays(x))\n",
    "option_df['days'] = (option_df['exdate']-option_df['date'])\n",
    "option_df['tau'] = (option_df['exdate']-option_df['date'])/360\n",
    "option_df['volday'] = option_df['days'].apply(lambda x:FindNearestDays(x))\n",
    "# dayOption\n",
    "dayOption = option_df[(option_df['date']==date) & (option_df['cp_flag']==cp_flag) \n",
    "          & (option_df['volday']==day)].reset_index(drop=True)[['strike_price','tau','price','volday']]"
   ]
  },
  {
   "cell_type": "code",
   "execution_count": 69,
   "id": "c598fb2f-207a-4231-919d-5c551d304895",
   "metadata": {},
   "outputs": [
    {
     "data": {
      "text/html": [
       "<div>\n",
       "<style scoped>\n",
       "    .dataframe tbody tr th:only-of-type {\n",
       "        vertical-align: middle;\n",
       "    }\n",
       "\n",
       "    .dataframe tbody tr th {\n",
       "        vertical-align: top;\n",
       "    }\n",
       "\n",
       "    .dataframe thead th {\n",
       "        text-align: right;\n",
       "    }\n",
       "</style>\n",
       "<table border=\"1\" class=\"dataframe\">\n",
       "  <thead>\n",
       "    <tr style=\"text-align: right;\">\n",
       "      <th></th>\n",
       "      <th>date</th>\n",
       "      <th>exdate</th>\n",
       "      <th>strike_price</th>\n",
       "      <th>best_bid</th>\n",
       "      <th>best_offer</th>\n",
       "      <th>volume</th>\n",
       "      <th>price</th>\n",
       "    </tr>\n",
       "  </thead>\n",
       "  <tbody>\n",
       "    <tr>\n",
       "      <th>count</th>\n",
       "      <td>2.173894e+07</td>\n",
       "      <td>2.173894e+07</td>\n",
       "      <td>2.173894e+07</td>\n",
       "      <td>2.173894e+07</td>\n",
       "      <td>2.173894e+07</td>\n",
       "      <td>2.173894e+07</td>\n",
       "      <td>2.173894e+07</td>\n",
       "    </tr>\n",
       "    <tr>\n",
       "      <th>mean</th>\n",
       "      <td>2.016860e+07</td>\n",
       "      <td>2.017157e+07</td>\n",
       "      <td>2.171978e+03</td>\n",
       "      <td>2.394872e+02</td>\n",
       "      <td>2.432285e+02</td>\n",
       "      <td>1.415781e+02</td>\n",
       "      <td>2.413579e+02</td>\n",
       "    </tr>\n",
       "    <tr>\n",
       "      <th>std</th>\n",
       "      <td>2.962272e+04</td>\n",
       "      <td>2.948819e+04</td>\n",
       "      <td>8.003757e+02</td>\n",
       "      <td>3.784102e+02</td>\n",
       "      <td>3.814966e+02</td>\n",
       "      <td>1.092901e+03</td>\n",
       "      <td>3.799419e+02</td>\n",
       "    </tr>\n",
       "    <tr>\n",
       "      <th>min</th>\n",
       "      <td>2.008061e+07</td>\n",
       "      <td>2.008061e+07</td>\n",
       "      <td>5.000000e+01</td>\n",
       "      <td>0.000000e+00</td>\n",
       "      <td>5.000000e-02</td>\n",
       "      <td>0.000000e+00</td>\n",
       "      <td>2.500000e-02</td>\n",
       "    </tr>\n",
       "    <tr>\n",
       "      <th>25%</th>\n",
       "      <td>2.015073e+07</td>\n",
       "      <td>2.015113e+07</td>\n",
       "      <td>1.600000e+03</td>\n",
       "      <td>3.300000e+00</td>\n",
       "      <td>3.900000e+00</td>\n",
       "      <td>0.000000e+00</td>\n",
       "      <td>3.600000e+00</td>\n",
       "    </tr>\n",
       "    <tr>\n",
       "      <th>50%</th>\n",
       "      <td>2.018020e+07</td>\n",
       "      <td>2.018052e+07</td>\n",
       "      <td>2.195000e+03</td>\n",
       "      <td>6.930000e+01</td>\n",
       "      <td>7.180000e+01</td>\n",
       "      <td>0.000000e+00</td>\n",
       "      <td>7.055000e+01</td>\n",
       "    </tr>\n",
       "    <tr>\n",
       "      <th>75%</th>\n",
       "      <td>2.019091e+07</td>\n",
       "      <td>2.019122e+07</td>\n",
       "      <td>2.740000e+03</td>\n",
       "      <td>3.186000e+02</td>\n",
       "      <td>3.255000e+02</td>\n",
       "      <td>2.000000e+00</td>\n",
       "      <td>3.220500e+02</td>\n",
       "    </tr>\n",
       "    <tr>\n",
       "      <th>max</th>\n",
       "      <td>2.020123e+07</td>\n",
       "      <td>2.023122e+07</td>\n",
       "      <td>6.500000e+03</td>\n",
       "      <td>3.652100e+03</td>\n",
       "      <td>3.659600e+03</td>\n",
       "      <td>1.478180e+05</td>\n",
       "      <td>3.655600e+03</td>\n",
       "    </tr>\n",
       "  </tbody>\n",
       "</table>\n",
       "</div>"
      ],
      "text/plain": [
       "               date        exdate  strike_price      best_bid    best_offer  \\\n",
       "count  2.173894e+07  2.173894e+07  2.173894e+07  2.173894e+07  2.173894e+07   \n",
       "mean   2.016860e+07  2.017157e+07  2.171978e+03  2.394872e+02  2.432285e+02   \n",
       "std    2.962272e+04  2.948819e+04  8.003757e+02  3.784102e+02  3.814966e+02   \n",
       "min    2.008061e+07  2.008061e+07  5.000000e+01  0.000000e+00  5.000000e-02   \n",
       "25%    2.015073e+07  2.015113e+07  1.600000e+03  3.300000e+00  3.900000e+00   \n",
       "50%    2.018020e+07  2.018052e+07  2.195000e+03  6.930000e+01  7.180000e+01   \n",
       "75%    2.019091e+07  2.019122e+07  2.740000e+03  3.186000e+02  3.255000e+02   \n",
       "max    2.020123e+07  2.023122e+07  6.500000e+03  3.652100e+03  3.659600e+03   \n",
       "\n",
       "             volume         price  \n",
       "count  2.173894e+07  2.173894e+07  \n",
       "mean   1.415781e+02  2.413579e+02  \n",
       "std    1.092901e+03  3.799419e+02  \n",
       "min    0.000000e+00  2.500000e-02  \n",
       "25%    0.000000e+00  3.600000e+00  \n",
       "50%    0.000000e+00  7.055000e+01  \n",
       "75%    2.000000e+00  3.220500e+02  \n",
       "max    1.478180e+05  3.655600e+03  "
      ]
     },
     "execution_count": 69,
     "metadata": {},
     "output_type": "execute_result"
    }
   ],
   "source": [
    "option_df.describe()"
   ]
  },
  {
   "cell_type": "code",
   "execution_count": 31,
   "id": "569a76ff-caed-46d7-b4e8-a593c144fab8",
   "metadata": {},
   "outputs": [
    {
     "data": {
      "text/html": [
       "<div>\n",
       "<style scoped>\n",
       "    .dataframe tbody tr th:only-of-type {\n",
       "        vertical-align: middle;\n",
       "    }\n",
       "\n",
       "    .dataframe tbody tr th {\n",
       "        vertical-align: top;\n",
       "    }\n",
       "\n",
       "    .dataframe thead th {\n",
       "        text-align: right;\n",
       "    }\n",
       "</style>\n",
       "<table border=\"1\" class=\"dataframe\">\n",
       "  <thead>\n",
       "    <tr style=\"text-align: right;\">\n",
       "      <th></th>\n",
       "      <th>date</th>\n",
       "      <th>days</th>\n",
       "      <th>impl_volatility</th>\n",
       "      <th>impl_strike</th>\n",
       "      <th>cp_flag</th>\n",
       "    </tr>\n",
       "  </thead>\n",
       "  <tbody>\n",
       "    <tr>\n",
       "      <th>1</th>\n",
       "      <td>19960104</td>\n",
       "      <td>10</td>\n",
       "      <td>NaN</td>\n",
       "      <td>0.0</td>\n",
       "      <td>P</td>\n",
       "    </tr>\n",
       "    <tr>\n",
       "      <th>2</th>\n",
       "      <td>19960104</td>\n",
       "      <td>10</td>\n",
       "      <td>NaN</td>\n",
       "      <td>0.0</td>\n",
       "      <td>P</td>\n",
       "    </tr>\n",
       "  </tbody>\n",
       "</table>\n",
       "</div>"
      ],
      "text/plain": [
       "       date  days  impl_volatility  impl_strike cp_flag\n",
       "1  19960104    10              NaN          0.0       P\n",
       "2  19960104    10              NaN          0.0       P"
      ]
     },
     "execution_count": 31,
     "metadata": {},
     "output_type": "execute_result"
    }
   ],
   "source": [
    "aa.iloc[1:3]"
   ]
  },
  {
   "cell_type": "code",
   "execution_count": 32,
   "id": "8e609e8e-7064-4adf-b645-0b6d7cedc6db",
   "metadata": {},
   "outputs": [
    {
     "data": {
      "text/html": [
       "<div>\n",
       "<style scoped>\n",
       "    .dataframe tbody tr th:only-of-type {\n",
       "        vertical-align: middle;\n",
       "    }\n",
       "\n",
       "    .dataframe tbody tr th {\n",
       "        vertical-align: top;\n",
       "    }\n",
       "\n",
       "    .dataframe thead th {\n",
       "        text-align: right;\n",
       "    }\n",
       "</style>\n",
       "<table border=\"1\" class=\"dataframe\">\n",
       "  <thead>\n",
       "    <tr style=\"text-align: right;\">\n",
       "      <th></th>\n",
       "      <th>date</th>\n",
       "      <th>exdate</th>\n",
       "      <th>cp_flag</th>\n",
       "      <th>strike_price</th>\n",
       "      <th>best_bid</th>\n",
       "      <th>best_offer</th>\n",
       "      <th>volume</th>\n",
       "      <th>price</th>\n",
       "    </tr>\n",
       "  </thead>\n",
       "  <tbody>\n",
       "    <tr>\n",
       "      <th>1</th>\n",
       "      <td>20080609</td>\n",
       "      <td>20080613</td>\n",
       "      <td>C</td>\n",
       "      <td>1300.0</td>\n",
       "      <td>60.9</td>\n",
       "      <td>66.9</td>\n",
       "      <td>0</td>\n",
       "      <td>63.90</td>\n",
       "    </tr>\n",
       "    <tr>\n",
       "      <th>2</th>\n",
       "      <td>20080609</td>\n",
       "      <td>20080613</td>\n",
       "      <td>C</td>\n",
       "      <td>1350.0</td>\n",
       "      <td>19.2</td>\n",
       "      <td>22.5</td>\n",
       "      <td>16</td>\n",
       "      <td>20.85</td>\n",
       "    </tr>\n",
       "  </tbody>\n",
       "</table>\n",
       "</div>"
      ],
      "text/plain": [
       "       date    exdate cp_flag  strike_price  best_bid  best_offer  volume  \\\n",
       "1  20080609  20080613       C        1300.0      60.9        66.9       0   \n",
       "2  20080609  20080613       C        1350.0      19.2        22.5      16   \n",
       "\n",
       "   price  \n",
       "1  63.90  \n",
       "2  20.85  "
      ]
     },
     "execution_count": 32,
     "metadata": {},
     "output_type": "execute_result"
    }
   ],
   "source": [
    "option_df.iloc[1:3]"
   ]
  },
  {
   "cell_type": "code",
   "execution_count": 40,
   "id": "e4bc32b7-774a-4a64-aec7-b84baadfcd0f",
   "metadata": {},
   "outputs": [],
   "source": [
    "x = option_df.iloc[1:3]['exdate']-option_df.iloc[1:3]['date']"
   ]
  },
  {
   "cell_type": "code",
   "execution_count": 43,
   "id": "12ee7cc2-5438-43b9-b18a-b1af651a6d5a",
   "metadata": {},
   "outputs": [
    {
     "data": {
      "text/plain": [
       "4"
      ]
     },
     "execution_count": 43,
     "metadata": {},
     "output_type": "execute_result"
    }
   ],
   "source": [
    "x.iloc[1]"
   ]
  },
  {
   "cell_type": "code",
   "execution_count": 55,
   "id": "5a9df15d-4478-45c9-83cc-ad8da81db9c5",
   "metadata": {},
   "outputs": [],
   "source": [
    "option_df_sub = option_df.iloc[10:18]"
   ]
  },
  {
   "cell_type": "code",
   "execution_count": null,
   "id": "9324bf06-fd76-46c3-84aa-fe7f0e91a81f",
   "metadata": {},
   "outputs": [],
   "source": []
  },
  {
   "cell_type": "code",
   "execution_count": 56,
   "id": "49376cf1-ef80-4cc0-89e6-aa0b434b79df",
   "metadata": {},
   "outputs": [
    {
     "data": {
      "text/html": [
       "<div>\n",
       "<style scoped>\n",
       "    .dataframe tbody tr th:only-of-type {\n",
       "        vertical-align: middle;\n",
       "    }\n",
       "\n",
       "    .dataframe tbody tr th {\n",
       "        vertical-align: top;\n",
       "    }\n",
       "\n",
       "    .dataframe thead th {\n",
       "        text-align: right;\n",
       "    }\n",
       "</style>\n",
       "<table border=\"1\" class=\"dataframe\">\n",
       "  <thead>\n",
       "    <tr style=\"text-align: right;\">\n",
       "      <th></th>\n",
       "      <th>date</th>\n",
       "      <th>exdate</th>\n",
       "      <th>cp_flag</th>\n",
       "      <th>strike_price</th>\n",
       "      <th>best_bid</th>\n",
       "      <th>best_offer</th>\n",
       "      <th>volume</th>\n",
       "      <th>price</th>\n",
       "    </tr>\n",
       "  </thead>\n",
       "  <tbody>\n",
       "    <tr>\n",
       "      <th>10</th>\n",
       "      <td>20080609</td>\n",
       "      <td>20080613</td>\n",
       "      <td>P</td>\n",
       "      <td>1400.0</td>\n",
       "      <td>35.60</td>\n",
       "      <td>40.20</td>\n",
       "      <td>25</td>\n",
       "      <td>37.900</td>\n",
       "    </tr>\n",
       "    <tr>\n",
       "      <th>11</th>\n",
       "      <td>20080609</td>\n",
       "      <td>20080613</td>\n",
       "      <td>P</td>\n",
       "      <td>1450.0</td>\n",
       "      <td>84.20</td>\n",
       "      <td>90.20</td>\n",
       "      <td>0</td>\n",
       "      <td>87.200</td>\n",
       "    </tr>\n",
       "    <tr>\n",
       "      <th>12</th>\n",
       "      <td>20080609</td>\n",
       "      <td>20080613</td>\n",
       "      <td>P</td>\n",
       "      <td>1275.0</td>\n",
       "      <td>0.15</td>\n",
       "      <td>1.15</td>\n",
       "      <td>0</td>\n",
       "      <td>0.650</td>\n",
       "    </tr>\n",
       "    <tr>\n",
       "      <th>13</th>\n",
       "      <td>20080609</td>\n",
       "      <td>20080613</td>\n",
       "      <td>P</td>\n",
       "      <td>1325.0</td>\n",
       "      <td>2.55</td>\n",
       "      <td>4.20</td>\n",
       "      <td>515</td>\n",
       "      <td>3.375</td>\n",
       "    </tr>\n",
       "    <tr>\n",
       "      <th>14</th>\n",
       "      <td>20080609</td>\n",
       "      <td>20090331</td>\n",
       "      <td>C</td>\n",
       "      <td>1050.0</td>\n",
       "      <td>339.60</td>\n",
       "      <td>341.60</td>\n",
       "      <td>0</td>\n",
       "      <td>340.600</td>\n",
       "    </tr>\n",
       "    <tr>\n",
       "      <th>15</th>\n",
       "      <td>20080609</td>\n",
       "      <td>20090331</td>\n",
       "      <td>C</td>\n",
       "      <td>1000.0</td>\n",
       "      <td>382.30</td>\n",
       "      <td>384.30</td>\n",
       "      <td>0</td>\n",
       "      <td>383.300</td>\n",
       "    </tr>\n",
       "    <tr>\n",
       "      <th>16</th>\n",
       "      <td>20080609</td>\n",
       "      <td>20090331</td>\n",
       "      <td>P</td>\n",
       "      <td>1050.0</td>\n",
       "      <td>24.00</td>\n",
       "      <td>27.90</td>\n",
       "      <td>0</td>\n",
       "      <td>25.950</td>\n",
       "    </tr>\n",
       "    <tr>\n",
       "      <th>17</th>\n",
       "      <td>20080609</td>\n",
       "      <td>20090331</td>\n",
       "      <td>P</td>\n",
       "      <td>1000.0</td>\n",
       "      <td>18.40</td>\n",
       "      <td>21.40</td>\n",
       "      <td>0</td>\n",
       "      <td>19.900</td>\n",
       "    </tr>\n",
       "  </tbody>\n",
       "</table>\n",
       "</div>"
      ],
      "text/plain": [
       "        date    exdate cp_flag  strike_price  best_bid  best_offer  volume  \\\n",
       "10  20080609  20080613       P        1400.0     35.60       40.20      25   \n",
       "11  20080609  20080613       P        1450.0     84.20       90.20       0   \n",
       "12  20080609  20080613       P        1275.0      0.15        1.15       0   \n",
       "13  20080609  20080613       P        1325.0      2.55        4.20     515   \n",
       "14  20080609  20090331       C        1050.0    339.60      341.60       0   \n",
       "15  20080609  20090331       C        1000.0    382.30      384.30       0   \n",
       "16  20080609  20090331       P        1050.0     24.00       27.90       0   \n",
       "17  20080609  20090331       P        1000.0     18.40       21.40       0   \n",
       "\n",
       "      price  \n",
       "10   37.900  \n",
       "11   87.200  \n",
       "12    0.650  \n",
       "13    3.375  \n",
       "14  340.600  \n",
       "15  383.300  \n",
       "16   25.950  \n",
       "17   19.900  "
      ]
     },
     "execution_count": 56,
     "metadata": {},
     "output_type": "execute_result"
    }
   ],
   "source": [
    "option_df_sub"
   ]
  },
  {
   "cell_type": "code",
   "execution_count": 64,
   "id": "fffee504-c070-4f3c-8f1d-cd8b45f6c6e1",
   "metadata": {},
   "outputs": [
    {
     "name": "stderr",
     "output_type": "stream",
     "text": [
      "C:\\Users\\dell\\AppData\\Local\\Temp/ipykernel_61636/3964864463.py:1: SettingWithCopyWarning: \n",
      "A value is trying to be set on a copy of a slice from a DataFrame.\n",
      "Try using .loc[row_indexer,col_indexer] = value instead\n",
      "\n",
      "See the caveats in the documentation: https://pandas.pydata.org/pandas-docs/stable/user_guide/indexing.html#returning-a-view-versus-a-copy\n",
      "  option_df_sub['days'] = option_df_sub['exdate'].reset_index(drop=True)-option_df_sub['date'].reset_index(drop=True)\n",
      "C:\\Users\\dell\\AppData\\Local\\Temp/ipykernel_61636/3964864463.py:2: SettingWithCopyWarning: \n",
      "A value is trying to be set on a copy of a slice from a DataFrame.\n",
      "Try using .loc[row_indexer,col_indexer] = value instead\n",
      "\n",
      "See the caveats in the documentation: https://pandas.pydata.org/pandas-docs/stable/user_guide/indexing.html#returning-a-view-versus-a-copy\n",
      "  option_df_sub['tau'] = (option_df_sub['exdate']-option_df_sub['date'])/360\n",
      "C:\\Users\\dell\\AppData\\Local\\Temp/ipykernel_61636/3964864463.py:3: SettingWithCopyWarning: \n",
      "A value is trying to be set on a copy of a slice from a DataFrame.\n",
      "Try using .loc[row_indexer,col_indexer] = value instead\n",
      "\n",
      "See the caveats in the documentation: https://pandas.pydata.org/pandas-docs/stable/user_guide/indexing.html#returning-a-view-versus-a-copy\n",
      "  option_df_sub['volday'] = option_df_sub['days'].apply(lambda x:FindNearestDays(x))\n"
     ]
    }
   ],
   "source": [
    "option_df_sub['days'] = option_df_sub['exdate'].reset_index(drop=True)-option_df_sub['date'].reset_index(drop=True)\n",
    "option_df_sub['tau'] = (option_df_sub['exdate']-option_df_sub['date'])/360\n",
    "option_df_sub['volday'] = option_df_sub['days'].apply(lambda x:FindNearestDays(x))"
   ]
  },
  {
   "cell_type": "code",
   "execution_count": 62,
   "id": "1e51851e-7fee-404f-bb9a-a2ad23427163",
   "metadata": {},
   "outputs": [
    {
     "data": {
      "text/plain": [
       "10       4\n",
       "11       4\n",
       "12       4\n",
       "13       4\n",
       "14    9722\n",
       "15    9722\n",
       "16    9722\n",
       "17    9722\n",
       "dtype: int64"
      ]
     },
     "execution_count": 62,
     "metadata": {},
     "output_type": "execute_result"
    }
   ],
   "source": [
    "option_df_sub['exdate']-option_df_sub['date']"
   ]
  },
  {
   "cell_type": "code",
   "execution_count": 65,
   "id": "dacab17a-5169-425a-8eaf-6f44368c45b1",
   "metadata": {},
   "outputs": [],
   "source": [
    "# dayOption\n",
    "dayOption = option_df_sub[(option_df_sub['date']==date) & (option_df_sub['cp_flag']==cp_flag) \n",
    "          & (option_df_sub['volday']==day)].reset_index(drop=True)[['strike_price','tau','price','volday']]"
   ]
  },
  {
   "cell_type": "code",
   "execution_count": 67,
   "id": "910da9f5-f4bb-439a-b0ae-36ab5d6bacc6",
   "metadata": {},
   "outputs": [
    {
     "data": {
      "text/html": [
       "<div>\n",
       "<style scoped>\n",
       "    .dataframe tbody tr th:only-of-type {\n",
       "        vertical-align: middle;\n",
       "    }\n",
       "\n",
       "    .dataframe tbody tr th {\n",
       "        vertical-align: top;\n",
       "    }\n",
       "\n",
       "    .dataframe thead th {\n",
       "        text-align: right;\n",
       "    }\n",
       "</style>\n",
       "<table border=\"1\" class=\"dataframe\">\n",
       "  <thead>\n",
       "    <tr style=\"text-align: right;\">\n",
       "      <th></th>\n",
       "      <th>date</th>\n",
       "      <th>exdate</th>\n",
       "      <th>cp_flag</th>\n",
       "      <th>strike_price</th>\n",
       "      <th>best_bid</th>\n",
       "      <th>best_offer</th>\n",
       "      <th>volume</th>\n",
       "      <th>price</th>\n",
       "      <th>days</th>\n",
       "      <th>tau</th>\n",
       "      <th>volday</th>\n",
       "    </tr>\n",
       "  </thead>\n",
       "  <tbody>\n",
       "    <tr>\n",
       "      <th>10</th>\n",
       "      <td>20080609</td>\n",
       "      <td>20080613</td>\n",
       "      <td>P</td>\n",
       "      <td>1400.0</td>\n",
       "      <td>35.60</td>\n",
       "      <td>40.20</td>\n",
       "      <td>25</td>\n",
       "      <td>37.900</td>\n",
       "      <td>NaN</td>\n",
       "      <td>0.011111</td>\n",
       "      <td>10</td>\n",
       "    </tr>\n",
       "    <tr>\n",
       "      <th>11</th>\n",
       "      <td>20080609</td>\n",
       "      <td>20080613</td>\n",
       "      <td>P</td>\n",
       "      <td>1450.0</td>\n",
       "      <td>84.20</td>\n",
       "      <td>90.20</td>\n",
       "      <td>0</td>\n",
       "      <td>87.200</td>\n",
       "      <td>NaN</td>\n",
       "      <td>0.011111</td>\n",
       "      <td>10</td>\n",
       "    </tr>\n",
       "    <tr>\n",
       "      <th>12</th>\n",
       "      <td>20080609</td>\n",
       "      <td>20080613</td>\n",
       "      <td>P</td>\n",
       "      <td>1275.0</td>\n",
       "      <td>0.15</td>\n",
       "      <td>1.15</td>\n",
       "      <td>0</td>\n",
       "      <td>0.650</td>\n",
       "      <td>NaN</td>\n",
       "      <td>0.011111</td>\n",
       "      <td>10</td>\n",
       "    </tr>\n",
       "    <tr>\n",
       "      <th>13</th>\n",
       "      <td>20080609</td>\n",
       "      <td>20080613</td>\n",
       "      <td>P</td>\n",
       "      <td>1325.0</td>\n",
       "      <td>2.55</td>\n",
       "      <td>4.20</td>\n",
       "      <td>515</td>\n",
       "      <td>3.375</td>\n",
       "      <td>NaN</td>\n",
       "      <td>0.011111</td>\n",
       "      <td>10</td>\n",
       "    </tr>\n",
       "    <tr>\n",
       "      <th>14</th>\n",
       "      <td>20080609</td>\n",
       "      <td>20090331</td>\n",
       "      <td>C</td>\n",
       "      <td>1050.0</td>\n",
       "      <td>339.60</td>\n",
       "      <td>341.60</td>\n",
       "      <td>0</td>\n",
       "      <td>340.600</td>\n",
       "      <td>NaN</td>\n",
       "      <td>27.005556</td>\n",
       "      <td>10</td>\n",
       "    </tr>\n",
       "    <tr>\n",
       "      <th>15</th>\n",
       "      <td>20080609</td>\n",
       "      <td>20090331</td>\n",
       "      <td>C</td>\n",
       "      <td>1000.0</td>\n",
       "      <td>382.30</td>\n",
       "      <td>384.30</td>\n",
       "      <td>0</td>\n",
       "      <td>383.300</td>\n",
       "      <td>NaN</td>\n",
       "      <td>27.005556</td>\n",
       "      <td>10</td>\n",
       "    </tr>\n",
       "    <tr>\n",
       "      <th>16</th>\n",
       "      <td>20080609</td>\n",
       "      <td>20090331</td>\n",
       "      <td>P</td>\n",
       "      <td>1050.0</td>\n",
       "      <td>24.00</td>\n",
       "      <td>27.90</td>\n",
       "      <td>0</td>\n",
       "      <td>25.950</td>\n",
       "      <td>NaN</td>\n",
       "      <td>27.005556</td>\n",
       "      <td>10</td>\n",
       "    </tr>\n",
       "    <tr>\n",
       "      <th>17</th>\n",
       "      <td>20080609</td>\n",
       "      <td>20090331</td>\n",
       "      <td>P</td>\n",
       "      <td>1000.0</td>\n",
       "      <td>18.40</td>\n",
       "      <td>21.40</td>\n",
       "      <td>0</td>\n",
       "      <td>19.900</td>\n",
       "      <td>NaN</td>\n",
       "      <td>27.005556</td>\n",
       "      <td>10</td>\n",
       "    </tr>\n",
       "  </tbody>\n",
       "</table>\n",
       "</div>"
      ],
      "text/plain": [
       "        date    exdate cp_flag  strike_price  best_bid  best_offer  volume  \\\n",
       "10  20080609  20080613       P        1400.0     35.60       40.20      25   \n",
       "11  20080609  20080613       P        1450.0     84.20       90.20       0   \n",
       "12  20080609  20080613       P        1275.0      0.15        1.15       0   \n",
       "13  20080609  20080613       P        1325.0      2.55        4.20     515   \n",
       "14  20080609  20090331       C        1050.0    339.60      341.60       0   \n",
       "15  20080609  20090331       C        1000.0    382.30      384.30       0   \n",
       "16  20080609  20090331       P        1050.0     24.00       27.90       0   \n",
       "17  20080609  20090331       P        1000.0     18.40       21.40       0   \n",
       "\n",
       "      price  days        tau  volday  \n",
       "10   37.900   NaN   0.011111      10  \n",
       "11   87.200   NaN   0.011111      10  \n",
       "12    0.650   NaN   0.011111      10  \n",
       "13    3.375   NaN   0.011111      10  \n",
       "14  340.600   NaN  27.005556      10  \n",
       "15  383.300   NaN  27.005556      10  \n",
       "16   25.950   NaN  27.005556      10  \n",
       "17   19.900   NaN  27.005556      10  "
      ]
     },
     "execution_count": 67,
     "metadata": {},
     "output_type": "execute_result"
    }
   ],
   "source": [
    "option_df_sub"
   ]
  },
  {
   "cell_type": "code",
   "execution_count": null,
   "id": "c58203c0-126d-4de0-aaaa-02f46c491766",
   "metadata": {},
   "outputs": [],
   "source": []
  },
  {
   "cell_type": "code",
   "execution_count": 20,
   "id": "ea634eba-3476-460f-93e5-c37d9a13264b",
   "metadata": {},
   "outputs": [
    {
     "data": {
      "text/html": [
       "<div>\n",
       "<style scoped>\n",
       "    .dataframe tbody tr th:only-of-type {\n",
       "        vertical-align: middle;\n",
       "    }\n",
       "\n",
       "    .dataframe tbody tr th {\n",
       "        vertical-align: top;\n",
       "    }\n",
       "\n",
       "    .dataframe thead th {\n",
       "        text-align: right;\n",
       "    }\n",
       "</style>\n",
       "<table border=\"1\" class=\"dataframe\">\n",
       "  <thead>\n",
       "    <tr style=\"text-align: right;\">\n",
       "      <th></th>\n",
       "      <th>date</th>\n",
       "      <th>days</th>\n",
       "      <th>impl_volatility</th>\n",
       "      <th>impl_strike</th>\n",
       "      <th>cp_flag</th>\n",
       "    </tr>\n",
       "  </thead>\n",
       "  <tbody>\n",
       "    <tr>\n",
       "      <th>1169872</th>\n",
       "      <td>20080609</td>\n",
       "      <td>10</td>\n",
       "      <td>0.172812</td>\n",
       "      <td>1413.4440</td>\n",
       "      <td>P</td>\n",
       "    </tr>\n",
       "    <tr>\n",
       "      <th>1169873</th>\n",
       "      <td>20080609</td>\n",
       "      <td>10</td>\n",
       "      <td>0.177888</td>\n",
       "      <td>1404.7960</td>\n",
       "      <td>P</td>\n",
       "    </tr>\n",
       "    <tr>\n",
       "      <th>1169874</th>\n",
       "      <td>20080609</td>\n",
       "      <td>10</td>\n",
       "      <td>0.184500</td>\n",
       "      <td>1398.0780</td>\n",
       "      <td>P</td>\n",
       "    </tr>\n",
       "    <tr>\n",
       "      <th>1169875</th>\n",
       "      <td>20080609</td>\n",
       "      <td>10</td>\n",
       "      <td>0.190410</td>\n",
       "      <td>1391.9110</td>\n",
       "      <td>P</td>\n",
       "    </tr>\n",
       "    <tr>\n",
       "      <th>1169876</th>\n",
       "      <td>20080609</td>\n",
       "      <td>10</td>\n",
       "      <td>0.194891</td>\n",
       "      <td>1385.9070</td>\n",
       "      <td>P</td>\n",
       "    </tr>\n",
       "    <tr>\n",
       "      <th>...</th>\n",
       "      <td>...</td>\n",
       "      <td>...</td>\n",
       "      <td>...</td>\n",
       "      <td>...</td>\n",
       "      <td>...</td>\n",
       "    </tr>\n",
       "    <tr>\n",
       "      <th>1170241</th>\n",
       "      <td>20080609</td>\n",
       "      <td>730</td>\n",
       "      <td>0.254045</td>\n",
       "      <td>1207.2170</td>\n",
       "      <td>C</td>\n",
       "    </tr>\n",
       "    <tr>\n",
       "      <th>1170242</th>\n",
       "      <td>20080609</td>\n",
       "      <td>730</td>\n",
       "      <td>0.264794</td>\n",
       "      <td>1130.4040</td>\n",
       "      <td>C</td>\n",
       "    </tr>\n",
       "    <tr>\n",
       "      <th>1170243</th>\n",
       "      <td>20080609</td>\n",
       "      <td>730</td>\n",
       "      <td>0.276586</td>\n",
       "      <td>1042.4390</td>\n",
       "      <td>C</td>\n",
       "    </tr>\n",
       "    <tr>\n",
       "      <th>1170244</th>\n",
       "      <td>20080609</td>\n",
       "      <td>730</td>\n",
       "      <td>0.288075</td>\n",
       "      <td>938.9661</td>\n",
       "      <td>C</td>\n",
       "    </tr>\n",
       "    <tr>\n",
       "      <th>1170245</th>\n",
       "      <td>20080609</td>\n",
       "      <td>730</td>\n",
       "      <td>0.298005</td>\n",
       "      <td>808.4180</td>\n",
       "      <td>C</td>\n",
       "    </tr>\n",
       "  </tbody>\n",
       "</table>\n",
       "<p>374 rows × 5 columns</p>\n",
       "</div>"
      ],
      "text/plain": [
       "             date  days  impl_volatility  impl_strike cp_flag\n",
       "1169872  20080609    10         0.172812    1413.4440       P\n",
       "1169873  20080609    10         0.177888    1404.7960       P\n",
       "1169874  20080609    10         0.184500    1398.0780       P\n",
       "1169875  20080609    10         0.190410    1391.9110       P\n",
       "1169876  20080609    10         0.194891    1385.9070       P\n",
       "...           ...   ...              ...          ...     ...\n",
       "1170241  20080609   730         0.254045    1207.2170       C\n",
       "1170242  20080609   730         0.264794    1130.4040       C\n",
       "1170243  20080609   730         0.276586    1042.4390       C\n",
       "1170244  20080609   730         0.288075     938.9661       C\n",
       "1170245  20080609   730         0.298005     808.4180       C\n",
       "\n",
       "[374 rows x 5 columns]"
      ]
     },
     "execution_count": 20,
     "metadata": {},
     "output_type": "execute_result"
    }
   ],
   "source": [
    "vol_df[vol_df['date']==option_df['date'][0]]"
   ]
  },
  {
   "cell_type": "code",
   "execution_count": null,
   "id": "b4cd0b4c-a83f-4d09-885b-b9c0a4d144cb",
   "metadata": {},
   "outputs": [],
   "source": []
  },
  {
   "cell_type": "code",
   "execution_count": 21,
   "id": "ed9c9fce-edd4-4d9b-adde-aab4094b23a2",
   "metadata": {},
   "outputs": [
    {
     "data": {
      "text/plain": [
       "datetime.datetime(2008, 6, 9, 0, 0)"
      ]
     },
     "execution_count": 21,
     "metadata": {},
     "output_type": "execute_result"
    }
   ],
   "source": [
    "datetime.datetime.strptime(str(20080609),'%Y%m%d')"
   ]
  },
  {
   "cell_type": "code",
   "execution_count": null,
   "id": "35ec2cfa-f9a0-4e86-862f-dc2a4eae8236",
   "metadata": {},
   "outputs": [],
   "source": []
  },
  {
   "cell_type": "code",
   "execution_count": 81,
   "id": "3c3514ad-9fe8-49f0-a1ff-2ed4bff8d516",
   "metadata": {},
   "outputs": [
    {
     "data": {
      "text/plain": [
       "0           20080609\n",
       "1           20080609\n",
       "2           20080609\n",
       "3           20080609\n",
       "4           20080609\n",
       "              ...   \n",
       "21738931    20201231\n",
       "21738932    20201231\n",
       "21738933    20201231\n",
       "21738934    20201231\n",
       "21738935    20201231\n",
       "Name: date, Length: 21738936, dtype: int64"
      ]
     },
     "execution_count": 81,
     "metadata": {},
     "output_type": "execute_result"
    }
   ],
   "source": [
    "stdate"
   ]
  },
  {
   "cell_type": "code",
   "execution_count": 85,
   "id": "4d2418cc-2aa3-458b-8458-bc167bfb27be",
   "metadata": {},
   "outputs": [
    {
     "data": {
      "image/png": "[encoded data removed]",
      "text/plain": [
       "<Figure size 640x480 with 1 Axes>"
      ]
     },
     "metadata": {},
     "output_type": "display_data"
    },
    {
     "data": {
      "text/plain": [
       "<ggplot: (110551377541)>"
      ]
     },
     "execution_count": 85,
     "metadata": {},
     "output_type": "execute_result"
    }
   ],
   "source": [
    "from plotnine import *\n",
    "# vol_df = pd.read_csv(path,usecols=['date', 'days', 'impl_volatility', 'impl_strike', 'cp_flag'])\n",
    "\n",
    "(\n",
    "ggplot(drawVol,aes(x='impl_strike',y='impl_volatility'))#创建图象，传入数据来源和映射\n",
    "+ geom_point()#建立几何对象，画直方图\n",
    ")"
   ]
  },
  {
   "cell_type": "code",
   "execution_count": 86,
   "id": "27aac2d2-4a71-42df-9af6-c5fa02e2f037",
   "metadata": {},
   "outputs": [
    {
     "name": "stderr",
     "output_type": "stream",
     "text": [
      "No handles with labels found to put in legend.\n"
     ]
    },
    {
     "data": {
      "text/plain": [
       "Text(0.5, 1.0, 'IVs for date: 20200605 cp_flag: C')"
      ]
     },
     "execution_count": 86,
     "metadata": {},
     "output_type": "execute_result"
    },
    {
     "data": {
      "image/png": "[encoded data removed]",
      "text/plain": [
       "<Figure size 432x288 with 1 Axes>"
      ]
     },
     "metadata": {
      "needs_background": "light"
     },
     "output_type": "display_data"
    }
   ],
   "source": [
    "plt.figure()\n",
    "plt.plot(drawVol['impl_strike'],drawVol['impl_volatility'],'m*-.',linewidth=2)\n",
    "plt.legend()\n",
    "plt.xlabel(\"Strike\")\n",
    "plt.ylabel(\"IVs\")\n",
    "plt.title('IVs for date: %d cp_flag: %s'%(date, cp_flag))"
   ]
  },
  {
   "cell_type": "code",
   "execution_count": null,
   "id": "10df0250-379d-4866-891b-73852b38ad94",
   "metadata": {},
   "outputs": [],
   "source": []
  }
 ],
 "metadata": {
  "kernelspec": {
   "display_name": "Python 3 (ipykernel)",
   "language": "python",
   "name": "python3"
  },
  "language_info": {
   "codemirror_mode": {
    "name": "ipython",
    "version": 3
   },
   "file_extension": ".py",
   "mimetype": "text/x-python",
   "name": "python",
   "nbconvert_exporter": "python",
   "pygments_lexer": "ipython3",
   "version": "3.9.7"
  },
  "toc": {
   "base_numbering": 1,
   "nav_menu": {},
   "number_sections": true,
   "sideBar": true,
   "skip_h1_title": false,
   "title_cell": "Table of Contents",
   "title_sidebar": "Contents",
   "toc_cell": false,
   "toc_position": {},
   "toc_section_display": true,
   "toc_window_display": false
  },
  "varInspector": {
   "cols": {
    "lenName": 16,
    "lenType": 16,
    "lenVar": 40
   },
   "kernels_config": {
    "python": {
     "delete_cmd_postfix": "",
     "delete_cmd_prefix": "del ",
     "library": "var_list.py",
     "varRefreshCmd": "print(var_dic_list())"
    },
    "r": {
     "delete_cmd_postfix": ") ",
     "delete_cmd_prefix": "rm(",
     "library": "var_list.r",
     "varRefreshCmd": "cat(var_dic_list()) "
    }
   },
   "types_to_exclude": [
    "module",
    "function",
    "builtin_function_or_method",
    "instance",
    "_Feature"
   ],
   "window_display": false
  }
 },
 "nbformat": 4,
 "nbformat_minor": 5
}
